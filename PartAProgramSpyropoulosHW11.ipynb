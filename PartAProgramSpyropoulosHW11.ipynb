{
 "cells": [
  {
   "cell_type": "markdown",
   "metadata": {},
   "source": [
    "\"\"\"\n",
    "Kostas Spyropoulos\n",
    "|Dr.Sam|\n",
    "|CIS 2532 NET 01|\n",
    "|Program : Build your first Neural Network to predict house prices with Keras|\n",
    "|Program is originally from https://github.com/josephlee94/intuitive-deep-learning |\n",
    "|Original author and commenting is from josephlee94 on GitHub|\n",
    "05/01/2022\n",
    "\"\"\"\n",
    "Coding Companion for Intuitive Deep Learning Part 1 (Annotated)"
   ]
  },
  {
   "cell_type": "markdown",
   "metadata": {},
   "source": [
    "In this notebook, we'll go through the code for the coding companion for Intuitive Deep Learning Part 1 ([Part 1a](https://medium.com/intuitive-deep-learning/intuitive-deep-learning-part-1a-introduction-to-neural-networks-d7b16ebf6b99), [Part 1b](https://medium.com/intuitive-deep-learning/intuitive-deep-learning-part-1b-introduction-to-neural-networks-8565d97ddd2d)) to create your very first neural network to predict whether the house price is below or above median value. We will go through the following in this notebook:\n",
    "\n",
    "- Exploring and Processing the Data\n",
    "- Building and Training our Neural Network\n",
    "- Visualizing Loss and Accuracy\n",
    "- Adding Regularization to our Neural Network\n",
    "\n",
    "The code is annotated throughout the notebook and you simply need to download the dataset [here](https://drive.google.com/file/d/1GfvKA0qznNVknghV4botnNxyH-KvODOC/view), put the dataset in the same folder as this notebook and run the code cells below. Note that the results you get might differ slightly from the blogpost as there is a degree of randomness in the way we split our dataset as well as the initialization of our neural network."
   ]
  },
  {
   "cell_type": "markdown",
   "metadata": {},
   "source": [
    "# Exploring and Processing the Data"
   ]
  },
  {
   "cell_type": "markdown",
   "metadata": {},
   "source": [
    "We first have to read in the CSV file that we've been given. We'll use a package called pandas for that:"
   ]
  },
  {
   "cell_type": "code",
   "execution_count": 1,
   "metadata": {},
   "outputs": [],
   "source": [
    "import pandas as pd"
   ]
  },
  {
   "cell_type": "code",
   "execution_count": 2,
   "metadata": {
    "scrolled": true
   },
   "outputs": [],
   "source": [
    "df = pd.read_csv('C:\\\\Users\\\\kspyr\\\\Desktop\\\\CIS 2532\\\\HW11\\\\housepricedata.csv')"
   ]
  },
  {
   "cell_type": "code",
   "execution_count": 3,
   "metadata": {
    "scrolled": false
   },
   "outputs": [
    {
     "data": {
      "text/html": [
       "<div>\n",
       "<style scoped>\n",
       "    .dataframe tbody tr th:only-of-type {\n",
       "        vertical-align: middle;\n",
       "    }\n",
       "\n",
       "    .dataframe tbody tr th {\n",
       "        vertical-align: top;\n",
       "    }\n",
       "\n",
       "    .dataframe thead th {\n",
       "        text-align: right;\n",
       "    }\n",
       "</style>\n",
       "<table border=\"1\" class=\"dataframe\">\n",
       "  <thead>\n",
       "    <tr style=\"text-align: right;\">\n",
       "      <th></th>\n",
       "      <th>LotArea</th>\n",
       "      <th>OverallQual</th>\n",
       "      <th>OverallCond</th>\n",
       "      <th>TotalBsmtSF</th>\n",
       "      <th>FullBath</th>\n",
       "      <th>HalfBath</th>\n",
       "      <th>BedroomAbvGr</th>\n",
       "      <th>TotRmsAbvGrd</th>\n",
       "      <th>Fireplaces</th>\n",
       "      <th>GarageArea</th>\n",
       "      <th>AboveMedianPrice</th>\n",
       "    </tr>\n",
       "  </thead>\n",
       "  <tbody>\n",
       "    <tr>\n",
       "      <th>0</th>\n",
       "      <td>8450</td>\n",
       "      <td>7</td>\n",
       "      <td>5</td>\n",
       "      <td>856</td>\n",
       "      <td>2</td>\n",
       "      <td>1</td>\n",
       "      <td>3</td>\n",
       "      <td>8</td>\n",
       "      <td>0</td>\n",
       "      <td>548</td>\n",
       "      <td>1</td>\n",
       "    </tr>\n",
       "    <tr>\n",
       "      <th>1</th>\n",
       "      <td>9600</td>\n",
       "      <td>6</td>\n",
       "      <td>8</td>\n",
       "      <td>1262</td>\n",
       "      <td>2</td>\n",
       "      <td>0</td>\n",
       "      <td>3</td>\n",
       "      <td>6</td>\n",
       "      <td>1</td>\n",
       "      <td>460</td>\n",
       "      <td>1</td>\n",
       "    </tr>\n",
       "    <tr>\n",
       "      <th>2</th>\n",
       "      <td>11250</td>\n",
       "      <td>7</td>\n",
       "      <td>5</td>\n",
       "      <td>920</td>\n",
       "      <td>2</td>\n",
       "      <td>1</td>\n",
       "      <td>3</td>\n",
       "      <td>6</td>\n",
       "      <td>1</td>\n",
       "      <td>608</td>\n",
       "      <td>1</td>\n",
       "    </tr>\n",
       "    <tr>\n",
       "      <th>3</th>\n",
       "      <td>9550</td>\n",
       "      <td>7</td>\n",
       "      <td>5</td>\n",
       "      <td>756</td>\n",
       "      <td>1</td>\n",
       "      <td>0</td>\n",
       "      <td>3</td>\n",
       "      <td>7</td>\n",
       "      <td>1</td>\n",
       "      <td>642</td>\n",
       "      <td>0</td>\n",
       "    </tr>\n",
       "    <tr>\n",
       "      <th>4</th>\n",
       "      <td>14260</td>\n",
       "      <td>8</td>\n",
       "      <td>5</td>\n",
       "      <td>1145</td>\n",
       "      <td>2</td>\n",
       "      <td>1</td>\n",
       "      <td>4</td>\n",
       "      <td>9</td>\n",
       "      <td>1</td>\n",
       "      <td>836</td>\n",
       "      <td>1</td>\n",
       "    </tr>\n",
       "    <tr>\n",
       "      <th>...</th>\n",
       "      <td>...</td>\n",
       "      <td>...</td>\n",
       "      <td>...</td>\n",
       "      <td>...</td>\n",
       "      <td>...</td>\n",
       "      <td>...</td>\n",
       "      <td>...</td>\n",
       "      <td>...</td>\n",
       "      <td>...</td>\n",
       "      <td>...</td>\n",
       "      <td>...</td>\n",
       "    </tr>\n",
       "    <tr>\n",
       "      <th>1455</th>\n",
       "      <td>7917</td>\n",
       "      <td>6</td>\n",
       "      <td>5</td>\n",
       "      <td>953</td>\n",
       "      <td>2</td>\n",
       "      <td>1</td>\n",
       "      <td>3</td>\n",
       "      <td>7</td>\n",
       "      <td>1</td>\n",
       "      <td>460</td>\n",
       "      <td>1</td>\n",
       "    </tr>\n",
       "    <tr>\n",
       "      <th>1456</th>\n",
       "      <td>13175</td>\n",
       "      <td>6</td>\n",
       "      <td>6</td>\n",
       "      <td>1542</td>\n",
       "      <td>2</td>\n",
       "      <td>0</td>\n",
       "      <td>3</td>\n",
       "      <td>7</td>\n",
       "      <td>2</td>\n",
       "      <td>500</td>\n",
       "      <td>1</td>\n",
       "    </tr>\n",
       "    <tr>\n",
       "      <th>1457</th>\n",
       "      <td>9042</td>\n",
       "      <td>7</td>\n",
       "      <td>9</td>\n",
       "      <td>1152</td>\n",
       "      <td>2</td>\n",
       "      <td>0</td>\n",
       "      <td>4</td>\n",
       "      <td>9</td>\n",
       "      <td>2</td>\n",
       "      <td>252</td>\n",
       "      <td>1</td>\n",
       "    </tr>\n",
       "    <tr>\n",
       "      <th>1458</th>\n",
       "      <td>9717</td>\n",
       "      <td>5</td>\n",
       "      <td>6</td>\n",
       "      <td>1078</td>\n",
       "      <td>1</td>\n",
       "      <td>0</td>\n",
       "      <td>2</td>\n",
       "      <td>5</td>\n",
       "      <td>0</td>\n",
       "      <td>240</td>\n",
       "      <td>0</td>\n",
       "    </tr>\n",
       "    <tr>\n",
       "      <th>1459</th>\n",
       "      <td>9937</td>\n",
       "      <td>5</td>\n",
       "      <td>6</td>\n",
       "      <td>1256</td>\n",
       "      <td>1</td>\n",
       "      <td>1</td>\n",
       "      <td>3</td>\n",
       "      <td>6</td>\n",
       "      <td>0</td>\n",
       "      <td>276</td>\n",
       "      <td>0</td>\n",
       "    </tr>\n",
       "  </tbody>\n",
       "</table>\n",
       "<p>1460 rows × 11 columns</p>\n",
       "</div>"
      ],
      "text/plain": [
       "      LotArea  OverallQual  OverallCond  TotalBsmtSF  FullBath  HalfBath  \\\n",
       "0        8450            7            5          856         2         1   \n",
       "1        9600            6            8         1262         2         0   \n",
       "2       11250            7            5          920         2         1   \n",
       "3        9550            7            5          756         1         0   \n",
       "4       14260            8            5         1145         2         1   \n",
       "...       ...          ...          ...          ...       ...       ...   \n",
       "1455     7917            6            5          953         2         1   \n",
       "1456    13175            6            6         1542         2         0   \n",
       "1457     9042            7            9         1152         2         0   \n",
       "1458     9717            5            6         1078         1         0   \n",
       "1459     9937            5            6         1256         1         1   \n",
       "\n",
       "      BedroomAbvGr  TotRmsAbvGrd  Fireplaces  GarageArea  AboveMedianPrice  \n",
       "0                3             8           0         548                 1  \n",
       "1                3             6           1         460                 1  \n",
       "2                3             6           1         608                 1  \n",
       "3                3             7           1         642                 0  \n",
       "4                4             9           1         836                 1  \n",
       "...            ...           ...         ...         ...               ...  \n",
       "1455             3             7           1         460                 1  \n",
       "1456             3             7           2         500                 1  \n",
       "1457             4             9           2         252                 1  \n",
       "1458             2             5           0         240                 0  \n",
       "1459             3             6           0         276                 0  \n",
       "\n",
       "[1460 rows x 11 columns]"
      ]
     },
     "execution_count": 3,
     "metadata": {},
     "output_type": "execute_result"
    }
   ],
   "source": [
    "df"
   ]
  },
  {
   "cell_type": "markdown",
   "metadata": {},
   "source": [
    "The dataset that we have now is in what we call a pandas dataframe. To convert it to an array, simply access its values:"
   ]
  },
  {
   "cell_type": "code",
   "execution_count": 4,
   "metadata": {},
   "outputs": [],
   "source": [
    "dataset = df.values"
   ]
  },
  {
   "cell_type": "code",
   "execution_count": 5,
   "metadata": {},
   "outputs": [
    {
     "data": {
      "text/plain": [
       "array([[ 8450,     7,     5, ...,     0,   548,     1],\n",
       "       [ 9600,     6,     8, ...,     1,   460,     1],\n",
       "       [11250,     7,     5, ...,     1,   608,     1],\n",
       "       ...,\n",
       "       [ 9042,     7,     9, ...,     2,   252,     1],\n",
       "       [ 9717,     5,     6, ...,     0,   240,     0],\n",
       "       [ 9937,     5,     6, ...,     0,   276,     0]], dtype=int64)"
      ]
     },
     "execution_count": 5,
     "metadata": {},
     "output_type": "execute_result"
    }
   ],
   "source": [
    "dataset"
   ]
  },
  {
   "cell_type": "markdown",
   "metadata": {},
   "source": [
    "Now, we split the dataset into our input features and the label we wish to predict."
   ]
  },
  {
   "cell_type": "code",
   "execution_count": 6,
   "metadata": {},
   "outputs": [],
   "source": [
    "X = dataset[:,0:10]\n",
    "Y = dataset[:,10]"
   ]
  },
  {
   "cell_type": "markdown",
   "metadata": {},
   "source": [
    "Normalizing our data is very important, as we want the input features to be on the same order of magnitude to make our training easier. We'll use a min-max scaler from scikit-learn which scales our data to be between 0 and 1."
   ]
  },
  {
   "cell_type": "code",
   "execution_count": 7,
   "metadata": {},
   "outputs": [],
   "source": [
    "from sklearn import preprocessing"
   ]
  },
  {
   "cell_type": "code",
   "execution_count": 8,
   "metadata": {},
   "outputs": [],
   "source": [
    "min_max_scaler = preprocessing.MinMaxScaler()\n",
    "X_scale = min_max_scaler.fit_transform(X)"
   ]
  },
  {
   "cell_type": "code",
   "execution_count": 9,
   "metadata": {},
   "outputs": [
    {
     "data": {
      "text/plain": [
       "array([[0.0334198 , 0.66666667, 0.5       , ..., 0.5       , 0.        ,\n",
       "        0.3864598 ],\n",
       "       [0.03879502, 0.55555556, 0.875     , ..., 0.33333333, 0.33333333,\n",
       "        0.32440056],\n",
       "       [0.04650728, 0.66666667, 0.5       , ..., 0.33333333, 0.33333333,\n",
       "        0.42877292],\n",
       "       ...,\n",
       "       [0.03618687, 0.66666667, 1.        , ..., 0.58333333, 0.66666667,\n",
       "        0.17771509],\n",
       "       [0.03934189, 0.44444444, 0.625     , ..., 0.25      , 0.        ,\n",
       "        0.16925247],\n",
       "       [0.04037019, 0.44444444, 0.625     , ..., 0.33333333, 0.        ,\n",
       "        0.19464034]])"
      ]
     },
     "execution_count": 9,
     "metadata": {},
     "output_type": "execute_result"
    }
   ],
   "source": [
    "X_scale"
   ]
  },
  {
   "cell_type": "markdown",
   "metadata": {},
   "source": [
    "Lastly, we wish to set aside some parts of our dataset for a validation set and a test set. We use the function train_test_split from scikit-learn to do that."
   ]
  },
  {
   "cell_type": "code",
   "execution_count": 10,
   "metadata": {},
   "outputs": [],
   "source": [
    "from sklearn.model_selection import train_test_split"
   ]
  },
  {
   "cell_type": "code",
   "execution_count": 11,
   "metadata": {},
   "outputs": [],
   "source": [
    "X_train, X_val_and_test, Y_train, Y_val_and_test = train_test_split(X_scale, Y, test_size=0.3)"
   ]
  },
  {
   "cell_type": "code",
   "execution_count": 12,
   "metadata": {},
   "outputs": [],
   "source": [
    "X_val, X_test, Y_val, Y_test = train_test_split(X_val_and_test, Y_val_and_test, test_size=0.5)"
   ]
  },
  {
   "cell_type": "code",
   "execution_count": 13,
   "metadata": {},
   "outputs": [
    {
     "name": "stdout",
     "output_type": "stream",
     "text": [
      "(1022, 10) (219, 10) (219, 10) (1022,) (219,) (219,)\n"
     ]
    }
   ],
   "source": [
    "print(X_train.shape, X_val.shape, X_test.shape, Y_train.shape, Y_val.shape, Y_test.shape)"
   ]
  },
  {
   "cell_type": "markdown",
   "metadata": {},
   "source": [
    "# Building and Training Our First Neural Network"
   ]
  },
  {
   "cell_type": "markdown",
   "metadata": {},
   "source": [
    "We will be using Keras to build our architecture. Let's import the code from Keras that we will need to use:"
   ]
  },
  {
   "cell_type": "code",
   "execution_count": 14,
   "metadata": {
    "scrolled": true
   },
   "outputs": [],
   "source": [
    "from keras.models import Sequential\n",
    "from keras.layers import Dense"
   ]
  },
  {
   "cell_type": "markdown",
   "metadata": {},
   "source": [
    "We will be using the Sequential model, which means that we merely need to describe the layers above in sequence. Our neural network has three layers:\n",
    "\n",
    "- Hidden layer 1: 30 neurons, ReLU activation\n",
    "- Hidden layer 2: 30 neurons, ReLU activation\n",
    "- Output Layer: 1 neuron, Sigmoid activation"
   ]
  },
  {
   "cell_type": "code",
   "execution_count": 15,
   "metadata": {},
   "outputs": [],
   "source": [
    "model = Sequential([\n",
    "    Dense(32, activation='relu', input_shape=(10,)),\n",
    "    Dense(32, activation='relu'),\n",
    "    Dense(1, activation='sigmoid'),\n",
    "])"
   ]
  },
  {
   "cell_type": "markdown",
   "metadata": {},
   "source": [
    "Now that we've got our architecture specified, we need to find the best numbers for it. Before we start our training, we have to configure the model by\n",
    "- Telling it what algorithm you want to use to do the optimization (we'll use stochastic gradient descent)\n",
    "- Telling it what loss function to use (for binary classification, we will use binary cross entropy)\n",
    "- Telling it what other metrics you want to track apart from the loss function (we want to track accuracy as well)\n",
    "\n",
    "We do so below:"
   ]
  },
  {
   "cell_type": "code",
   "execution_count": 16,
   "metadata": {},
   "outputs": [],
   "source": [
    "model.compile(optimizer='sgd',\n",
    "              loss='binary_crossentropy',\n",
    "              metrics=['accuracy'])"
   ]
  },
  {
   "cell_type": "markdown",
   "metadata": {},
   "source": [
    "Training on the data is pretty straightforward and requires us to write one line of code. The function is called 'fit' as we are fitting the parameters to the data. We specify:\n",
    "- what data we are training on, which is X_train and Y_train\n",
    "- the size of our mini-batch \n",
    "- how long we want to train it for (epochs)\n",
    "- what our validation data is so that the model will tell us how we are doing on the validation data at each point.\n",
    "\n",
    "This function will output a history, which we save under the variable hist. We'll use this variable a little later."
   ]
  },
  {
   "cell_type": "code",
   "execution_count": 17,
   "metadata": {
    "scrolled": false
   },
   "outputs": [
    {
     "name": "stdout",
     "output_type": "stream",
     "text": [
      "Epoch 1/100\n",
      "32/32 [==============================] - 1s 7ms/step - loss: 0.6839 - accuracy: 0.5078 - val_loss: 0.6794 - val_accuracy: 0.5160\n",
      "Epoch 2/100\n",
      "32/32 [==============================] - 0s 2ms/step - loss: 0.6786 - accuracy: 0.5157 - val_loss: 0.6745 - val_accuracy: 0.5251\n",
      "Epoch 3/100\n",
      "32/32 [==============================] - 0s 2ms/step - loss: 0.6738 - accuracy: 0.5372 - val_loss: 0.6695 - val_accuracy: 0.5479\n",
      "Epoch 4/100\n",
      "32/32 [==============================] - 0s 2ms/step - loss: 0.6686 - accuracy: 0.5841 - val_loss: 0.6644 - val_accuracy: 0.5982\n",
      "Epoch 5/100\n",
      "32/32 [==============================] - 0s 3ms/step - loss: 0.6634 - accuracy: 0.6135 - val_loss: 0.6592 - val_accuracy: 0.6530\n",
      "Epoch 6/100\n",
      "32/32 [==============================] - 0s 2ms/step - loss: 0.6583 - accuracy: 0.6614 - val_loss: 0.6542 - val_accuracy: 0.6941\n",
      "Epoch 7/100\n",
      "32/32 [==============================] - 0s 3ms/step - loss: 0.6532 - accuracy: 0.6781 - val_loss: 0.6490 - val_accuracy: 0.7078\n",
      "Epoch 8/100\n",
      "32/32 [==============================] - 0s 3ms/step - loss: 0.6479 - accuracy: 0.6937 - val_loss: 0.6437 - val_accuracy: 0.7260\n",
      "Epoch 9/100\n",
      "32/32 [==============================] - 0s 2ms/step - loss: 0.6425 - accuracy: 0.7104 - val_loss: 0.6381 - val_accuracy: 0.7443\n",
      "Epoch 10/100\n",
      "32/32 [==============================] - 0s 3ms/step - loss: 0.6368 - accuracy: 0.7055 - val_loss: 0.6324 - val_accuracy: 0.7443\n",
      "Epoch 11/100\n",
      "32/32 [==============================] - 0s 3ms/step - loss: 0.6310 - accuracy: 0.7358 - val_loss: 0.6266 - val_accuracy: 0.7580\n",
      "Epoch 12/100\n",
      "32/32 [==============================] - 0s 3ms/step - loss: 0.6248 - accuracy: 0.7544 - val_loss: 0.6205 - val_accuracy: 0.7626\n",
      "Epoch 13/100\n",
      "32/32 [==============================] - 0s 2ms/step - loss: 0.6184 - accuracy: 0.7573 - val_loss: 0.6142 - val_accuracy: 0.7808\n",
      "Epoch 14/100\n",
      "32/32 [==============================] - 0s 3ms/step - loss: 0.6118 - accuracy: 0.7750 - val_loss: 0.6078 - val_accuracy: 0.7854\n",
      "Epoch 15/100\n",
      "32/32 [==============================] - 0s 3ms/step - loss: 0.6050 - accuracy: 0.7838 - val_loss: 0.6012 - val_accuracy: 0.7945\n",
      "Epoch 16/100\n",
      "32/32 [==============================] - 0s 2ms/step - loss: 0.5980 - accuracy: 0.7828 - val_loss: 0.5944 - val_accuracy: 0.7945\n",
      "Epoch 17/100\n",
      "32/32 [==============================] - 0s 3ms/step - loss: 0.5909 - accuracy: 0.7965 - val_loss: 0.5874 - val_accuracy: 0.7945\n",
      "Epoch 18/100\n",
      "32/32 [==============================] - 0s 3ms/step - loss: 0.5835 - accuracy: 0.8014 - val_loss: 0.5802 - val_accuracy: 0.7991\n",
      "Epoch 19/100\n",
      "32/32 [==============================] - 0s 3ms/step - loss: 0.5760 - accuracy: 0.8053 - val_loss: 0.5727 - val_accuracy: 0.7945\n",
      "Epoch 20/100\n",
      "32/32 [==============================] - 0s 2ms/step - loss: 0.5681 - accuracy: 0.8092 - val_loss: 0.5651 - val_accuracy: 0.7900\n",
      "Epoch 21/100\n",
      "32/32 [==============================] - 0s 3ms/step - loss: 0.5603 - accuracy: 0.8112 - val_loss: 0.5574 - val_accuracy: 0.7945\n",
      "Epoch 22/100\n",
      "32/32 [==============================] - 0s 3ms/step - loss: 0.5523 - accuracy: 0.8141 - val_loss: 0.5496 - val_accuracy: 0.7945\n",
      "Epoch 23/100\n",
      "32/32 [==============================] - 0s 3ms/step - loss: 0.5443 - accuracy: 0.8151 - val_loss: 0.5417 - val_accuracy: 0.7945\n",
      "Epoch 24/100\n",
      "32/32 [==============================] - 0s 2ms/step - loss: 0.5361 - accuracy: 0.8170 - val_loss: 0.5338 - val_accuracy: 0.7900\n",
      "Epoch 25/100\n",
      "32/32 [==============================] - 0s 3ms/step - loss: 0.5280 - accuracy: 0.8170 - val_loss: 0.5258 - val_accuracy: 0.7900\n",
      "Epoch 26/100\n",
      "32/32 [==============================] - 0s 3ms/step - loss: 0.5199 - accuracy: 0.8219 - val_loss: 0.5178 - val_accuracy: 0.7854\n",
      "Epoch 27/100\n",
      "32/32 [==============================] - 0s 3ms/step - loss: 0.5116 - accuracy: 0.8258 - val_loss: 0.5098 - val_accuracy: 0.7900\n",
      "Epoch 28/100\n",
      "32/32 [==============================] - 0s 3ms/step - loss: 0.5036 - accuracy: 0.8268 - val_loss: 0.5020 - val_accuracy: 0.8037\n",
      "Epoch 29/100\n",
      "32/32 [==============================] - 0s 3ms/step - loss: 0.4954 - accuracy: 0.8268 - val_loss: 0.4940 - val_accuracy: 0.8128\n",
      "Epoch 30/100\n",
      "32/32 [==============================] - 0s 3ms/step - loss: 0.4875 - accuracy: 0.8386 - val_loss: 0.4864 - val_accuracy: 0.8037\n",
      "Epoch 31/100\n",
      "32/32 [==============================] - 0s 3ms/step - loss: 0.4799 - accuracy: 0.8337 - val_loss: 0.4786 - val_accuracy: 0.8128\n",
      "Epoch 32/100\n",
      "32/32 [==============================] - 0s 3ms/step - loss: 0.4722 - accuracy: 0.8434 - val_loss: 0.4712 - val_accuracy: 0.8128\n",
      "Epoch 33/100\n",
      "32/32 [==============================] - 0s 2ms/step - loss: 0.4646 - accuracy: 0.8425 - val_loss: 0.4639 - val_accuracy: 0.8174\n",
      "Epoch 34/100\n",
      "32/32 [==============================] - 0s 3ms/step - loss: 0.4573 - accuracy: 0.8454 - val_loss: 0.4570 - val_accuracy: 0.8174\n",
      "Epoch 35/100\n",
      "32/32 [==============================] - 0s 2ms/step - loss: 0.4500 - accuracy: 0.8464 - val_loss: 0.4502 - val_accuracy: 0.8128\n",
      "Epoch 36/100\n",
      "32/32 [==============================] - 0s 2ms/step - loss: 0.4431 - accuracy: 0.8474 - val_loss: 0.4431 - val_accuracy: 0.8219\n",
      "Epoch 37/100\n",
      "32/32 [==============================] - 0s 3ms/step - loss: 0.4364 - accuracy: 0.8523 - val_loss: 0.4367 - val_accuracy: 0.8128\n",
      "Epoch 38/100\n",
      "32/32 [==============================] - 0s 2ms/step - loss: 0.4297 - accuracy: 0.8532 - val_loss: 0.4307 - val_accuracy: 0.8128\n",
      "Epoch 39/100\n",
      "32/32 [==============================] - 0s 3ms/step - loss: 0.4230 - accuracy: 0.8454 - val_loss: 0.4244 - val_accuracy: 0.8174\n",
      "Epoch 40/100\n",
      "32/32 [==============================] - 0s 3ms/step - loss: 0.4173 - accuracy: 0.8591 - val_loss: 0.4191 - val_accuracy: 0.8219\n",
      "Epoch 41/100\n",
      "32/32 [==============================] - 0s 3ms/step - loss: 0.4115 - accuracy: 0.8591 - val_loss: 0.4138 - val_accuracy: 0.8356\n",
      "Epoch 42/100\n",
      "32/32 [==============================] - 0s 3ms/step - loss: 0.4060 - accuracy: 0.8571 - val_loss: 0.4082 - val_accuracy: 0.8402\n",
      "Epoch 43/100\n",
      "32/32 [==============================] - 0s 3ms/step - loss: 0.4000 - accuracy: 0.8630 - val_loss: 0.4037 - val_accuracy: 0.8447\n",
      "Epoch 44/100\n",
      "32/32 [==============================] - 0s 2ms/step - loss: 0.3951 - accuracy: 0.8581 - val_loss: 0.3983 - val_accuracy: 0.8402\n",
      "Epoch 45/100\n",
      "32/32 [==============================] - 0s 3ms/step - loss: 0.3897 - accuracy: 0.8611 - val_loss: 0.3932 - val_accuracy: 0.8402\n",
      "Epoch 46/100\n",
      "32/32 [==============================] - 0s 3ms/step - loss: 0.3847 - accuracy: 0.8581 - val_loss: 0.3885 - val_accuracy: 0.8447\n",
      "Epoch 47/100\n",
      "32/32 [==============================] - 0s 3ms/step - loss: 0.3804 - accuracy: 0.8659 - val_loss: 0.3853 - val_accuracy: 0.8447\n",
      "Epoch 48/100\n",
      "32/32 [==============================] - 0s 3ms/step - loss: 0.3760 - accuracy: 0.8650 - val_loss: 0.3810 - val_accuracy: 0.8447\n",
      "Epoch 49/100\n",
      "32/32 [==============================] - 0s 3ms/step - loss: 0.3711 - accuracy: 0.8669 - val_loss: 0.3794 - val_accuracy: 0.8539\n",
      "Epoch 50/100\n",
      "32/32 [==============================] - 0s 3ms/step - loss: 0.3678 - accuracy: 0.8650 - val_loss: 0.3734 - val_accuracy: 0.8539\n",
      "Epoch 51/100\n",
      "32/32 [==============================] - 0s 3ms/step - loss: 0.3639 - accuracy: 0.8650 - val_loss: 0.3699 - val_accuracy: 0.8584\n",
      "Epoch 52/100\n",
      "32/32 [==============================] - 0s 3ms/step - loss: 0.3599 - accuracy: 0.8659 - val_loss: 0.3662 - val_accuracy: 0.8539\n",
      "Epoch 53/100\n",
      "32/32 [==============================] - 0s 2ms/step - loss: 0.3564 - accuracy: 0.8659 - val_loss: 0.3634 - val_accuracy: 0.8584\n",
      "Epoch 54/100\n",
      "32/32 [==============================] - 0s 2ms/step - loss: 0.3533 - accuracy: 0.8679 - val_loss: 0.3601 - val_accuracy: 0.8584\n",
      "Epoch 55/100\n",
      "32/32 [==============================] - 0s 2ms/step - loss: 0.3502 - accuracy: 0.8669 - val_loss: 0.3579 - val_accuracy: 0.8584\n",
      "Epoch 56/100\n",
      "32/32 [==============================] - 0s 2ms/step - loss: 0.3464 - accuracy: 0.8708 - val_loss: 0.3542 - val_accuracy: 0.8630\n",
      "Epoch 57/100\n",
      "32/32 [==============================] - 0s 2ms/step - loss: 0.3443 - accuracy: 0.8728 - val_loss: 0.3518 - val_accuracy: 0.8630\n",
      "Epoch 58/100\n",
      "32/32 [==============================] - 0s 2ms/step - loss: 0.3412 - accuracy: 0.8699 - val_loss: 0.3511 - val_accuracy: 0.8630\n"
     ]
    },
    {
     "name": "stdout",
     "output_type": "stream",
     "text": [
      "Epoch 59/100\n",
      "32/32 [==============================] - 0s 2ms/step - loss: 0.3383 - accuracy: 0.8718 - val_loss: 0.3482 - val_accuracy: 0.8630\n",
      "Epoch 60/100\n",
      "32/32 [==============================] - 0s 3ms/step - loss: 0.3358 - accuracy: 0.8689 - val_loss: 0.3471 - val_accuracy: 0.8630\n",
      "Epoch 61/100\n",
      "32/32 [==============================] - 0s 2ms/step - loss: 0.3334 - accuracy: 0.8718 - val_loss: 0.3435 - val_accuracy: 0.8676\n",
      "Epoch 62/100\n",
      "32/32 [==============================] - 0s 3ms/step - loss: 0.3314 - accuracy: 0.8738 - val_loss: 0.3407 - val_accuracy: 0.8676\n",
      "Epoch 63/100\n",
      "32/32 [==============================] - 0s 3ms/step - loss: 0.3288 - accuracy: 0.8738 - val_loss: 0.3395 - val_accuracy: 0.8630\n",
      "Epoch 64/100\n",
      "32/32 [==============================] - 0s 3ms/step - loss: 0.3270 - accuracy: 0.8748 - val_loss: 0.3385 - val_accuracy: 0.8676\n",
      "Epoch 65/100\n",
      "32/32 [==============================] - 0s 2ms/step - loss: 0.3242 - accuracy: 0.8748 - val_loss: 0.3357 - val_accuracy: 0.8630\n",
      "Epoch 66/100\n",
      "32/32 [==============================] - 0s 3ms/step - loss: 0.3224 - accuracy: 0.8757 - val_loss: 0.3345 - val_accuracy: 0.8721\n",
      "Epoch 67/100\n",
      "32/32 [==============================] - 0s 2ms/step - loss: 0.3203 - accuracy: 0.8738 - val_loss: 0.3318 - val_accuracy: 0.8539\n",
      "Epoch 68/100\n",
      "32/32 [==============================] - 0s 2ms/step - loss: 0.3191 - accuracy: 0.8748 - val_loss: 0.3320 - val_accuracy: 0.8813\n",
      "Epoch 69/100\n",
      "32/32 [==============================] - 0s 2ms/step - loss: 0.3173 - accuracy: 0.8738 - val_loss: 0.3304 - val_accuracy: 0.8813\n",
      "Epoch 70/100\n",
      "32/32 [==============================] - 0s 3ms/step - loss: 0.3155 - accuracy: 0.8787 - val_loss: 0.3285 - val_accuracy: 0.8767\n",
      "Epoch 71/100\n",
      "32/32 [==============================] - 0s 3ms/step - loss: 0.3143 - accuracy: 0.8748 - val_loss: 0.3267 - val_accuracy: 0.8721\n",
      "Epoch 72/100\n",
      "32/32 [==============================] - 0s 2ms/step - loss: 0.3127 - accuracy: 0.8767 - val_loss: 0.3255 - val_accuracy: 0.8721\n",
      "Epoch 73/100\n",
      "32/32 [==============================] - 0s 2ms/step - loss: 0.3111 - accuracy: 0.8767 - val_loss: 0.3234 - val_accuracy: 0.8813\n",
      "Epoch 74/100\n",
      "32/32 [==============================] - 0s 2ms/step - loss: 0.3095 - accuracy: 0.8806 - val_loss: 0.3256 - val_accuracy: 0.8767\n",
      "Epoch 75/100\n",
      "32/32 [==============================] - 0s 2ms/step - loss: 0.3081 - accuracy: 0.8767 - val_loss: 0.3232 - val_accuracy: 0.8676\n",
      "Epoch 76/100\n",
      "32/32 [==============================] - 0s 2ms/step - loss: 0.3072 - accuracy: 0.8757 - val_loss: 0.3207 - val_accuracy: 0.8676\n",
      "Epoch 77/100\n",
      "32/32 [==============================] - 0s 2ms/step - loss: 0.3058 - accuracy: 0.8777 - val_loss: 0.3215 - val_accuracy: 0.8721\n",
      "Epoch 78/100\n",
      "32/32 [==============================] - 0s 2ms/step - loss: 0.3048 - accuracy: 0.8796 - val_loss: 0.3205 - val_accuracy: 0.8630\n",
      "Epoch 79/100\n",
      "32/32 [==============================] - 0s 3ms/step - loss: 0.3031 - accuracy: 0.8757 - val_loss: 0.3192 - val_accuracy: 0.8630\n",
      "Epoch 80/100\n",
      "32/32 [==============================] - 0s 2ms/step - loss: 0.3022 - accuracy: 0.8777 - val_loss: 0.3169 - val_accuracy: 0.8767\n",
      "Epoch 81/100\n",
      "32/32 [==============================] - 0s 2ms/step - loss: 0.3010 - accuracy: 0.8826 - val_loss: 0.3150 - val_accuracy: 0.8767\n",
      "Epoch 82/100\n",
      "32/32 [==============================] - 0s 2ms/step - loss: 0.3000 - accuracy: 0.8767 - val_loss: 0.3150 - val_accuracy: 0.8676\n",
      "Epoch 83/100\n",
      "32/32 [==============================] - 0s 2ms/step - loss: 0.2991 - accuracy: 0.8816 - val_loss: 0.3144 - val_accuracy: 0.8676\n",
      "Epoch 84/100\n",
      "32/32 [==============================] - 0s 3ms/step - loss: 0.2980 - accuracy: 0.8826 - val_loss: 0.3124 - val_accuracy: 0.8767\n",
      "Epoch 85/100\n",
      "32/32 [==============================] - 0s 2ms/step - loss: 0.2968 - accuracy: 0.8806 - val_loss: 0.3158 - val_accuracy: 0.8630\n",
      "Epoch 86/100\n",
      "32/32 [==============================] - 0s 3ms/step - loss: 0.2965 - accuracy: 0.8787 - val_loss: 0.3137 - val_accuracy: 0.8676\n",
      "Epoch 87/100\n",
      "32/32 [==============================] - 0s 3ms/step - loss: 0.2953 - accuracy: 0.8865 - val_loss: 0.3137 - val_accuracy: 0.8630\n",
      "Epoch 88/100\n",
      "32/32 [==============================] - 0s 2ms/step - loss: 0.2940 - accuracy: 0.8875 - val_loss: 0.3170 - val_accuracy: 0.8676\n",
      "Epoch 89/100\n",
      "32/32 [==============================] - 0s 3ms/step - loss: 0.2941 - accuracy: 0.8826 - val_loss: 0.3114 - val_accuracy: 0.8676\n",
      "Epoch 90/100\n",
      "32/32 [==============================] - 0s 3ms/step - loss: 0.2926 - accuracy: 0.8836 - val_loss: 0.3096 - val_accuracy: 0.8676\n",
      "Epoch 91/100\n",
      "32/32 [==============================] - 0s 3ms/step - loss: 0.2914 - accuracy: 0.8816 - val_loss: 0.3053 - val_accuracy: 0.8721\n",
      "Epoch 92/100\n",
      "32/32 [==============================] - 0s 3ms/step - loss: 0.2912 - accuracy: 0.8836 - val_loss: 0.3082 - val_accuracy: 0.8721\n",
      "Epoch 93/100\n",
      "32/32 [==============================] - 0s 2ms/step - loss: 0.2905 - accuracy: 0.8836 - val_loss: 0.3055 - val_accuracy: 0.8721\n",
      "Epoch 94/100\n",
      "32/32 [==============================] - 0s 3ms/step - loss: 0.2898 - accuracy: 0.8865 - val_loss: 0.3071 - val_accuracy: 0.8721\n",
      "Epoch 95/100\n",
      "32/32 [==============================] - 0s 2ms/step - loss: 0.2883 - accuracy: 0.8845 - val_loss: 0.3042 - val_accuracy: 0.8721\n",
      "Epoch 96/100\n",
      "32/32 [==============================] - 0s 3ms/step - loss: 0.2885 - accuracy: 0.8845 - val_loss: 0.3060 - val_accuracy: 0.8767\n",
      "Epoch 97/100\n",
      "32/32 [==============================] - 0s 3ms/step - loss: 0.2868 - accuracy: 0.8836 - val_loss: 0.3069 - val_accuracy: 0.8721\n",
      "Epoch 98/100\n",
      "32/32 [==============================] - 0s 3ms/step - loss: 0.2863 - accuracy: 0.8855 - val_loss: 0.3013 - val_accuracy: 0.8721\n",
      "Epoch 99/100\n",
      "32/32 [==============================] - 0s 3ms/step - loss: 0.2866 - accuracy: 0.8885 - val_loss: 0.3011 - val_accuracy: 0.8721\n",
      "Epoch 100/100\n",
      "32/32 [==============================] - 0s 3ms/step - loss: 0.2852 - accuracy: 0.8875 - val_loss: 0.3004 - val_accuracy: 0.8721\n"
     ]
    }
   ],
   "source": [
    "hist = model.fit(X_train, Y_train,\n",
    "          batch_size=32, epochs=100,\n",
    "          validation_data=(X_val, Y_val))"
   ]
  },
  {
   "cell_type": "markdown",
   "metadata": {},
   "source": [
    "Evaluating our data on the test set:"
   ]
  },
  {
   "cell_type": "code",
   "execution_count": 18,
   "metadata": {},
   "outputs": [
    {
     "name": "stdout",
     "output_type": "stream",
     "text": [
      "7/7 [==============================] - 0s 2ms/step - loss: 0.2823 - accuracy: 0.8813\n"
     ]
    },
    {
     "data": {
      "text/plain": [
       "0.8812785148620605"
      ]
     },
     "execution_count": 18,
     "metadata": {},
     "output_type": "execute_result"
    }
   ],
   "source": [
    "model.evaluate(X_test, Y_test)[1]"
   ]
  },
  {
   "cell_type": "markdown",
   "metadata": {},
   "source": [
    "# Visualizing Loss and Accuracy"
   ]
  },
  {
   "cell_type": "markdown",
   "metadata": {},
   "source": [
    "Import the relevant package we need to do the visualization"
   ]
  },
  {
   "cell_type": "code",
   "execution_count": 19,
   "metadata": {},
   "outputs": [],
   "source": [
    "import matplotlib.pyplot as plt"
   ]
  },
  {
   "cell_type": "markdown",
   "metadata": {},
   "source": [
    "We want to visualize the training loss and the validation loss like this:"
   ]
  },
  {
   "cell_type": "code",
   "execution_count": 20,
   "metadata": {},
   "outputs": [
    {
     "data": {
      "image/png": "[encoded data removed]",
      "text/plain": [
       "<Figure size 432x288 with 1 Axes>"
      ]
     },
     "metadata": {
      "needs_background": "light"
     },
     "output_type": "display_data"
    }
   ],
   "source": [
    "plt.plot(hist.history['loss'])\n",
    "plt.plot(hist.history['val_loss'])\n",
    "plt.title('Model loss')\n",
    "plt.ylabel('Loss')\n",
    "plt.xlabel('Epoch')\n",
    "plt.legend(['Train', 'Val'], loc='upper right')\n",
    "plt.show()"
   ]
  },
  {
   "cell_type": "markdown",
   "metadata": {},
   "source": [
    "We can also visualize the training accuracy and the validation accuracy like this:"
   ]
  },
  {
   "cell_type": "code",
   "execution_count": 21,
   "metadata": {},
   "outputs": [
    {
     "data": {
      "image/png": "[encoded data removed]",
      "text/plain": [
       "<Figure size 432x288 with 1 Axes>"
      ]
     },
     "metadata": {
      "needs_background": "light"
     },
     "output_type": "display_data"
    }
   ],
   "source": [
    "plt.plot(hist.history['accuracy'])\n",
    "plt.plot(hist.history['val_accuracy'])\n",
    "plt.title('Model accuracy')\n",
    "plt.ylabel('Accuracy')\n",
    "plt.xlabel('Epoch')\n",
    "plt.legend(['Train', 'Val'], loc='lower right')\n",
    "plt.show()"
   ]
  },
  {
   "cell_type": "markdown",
   "metadata": {},
   "source": [
    "# Adding Regularization to our Neural Network"
   ]
  },
  {
   "cell_type": "markdown",
   "metadata": {},
   "source": [
    "We'll train a model which will overfit, which we call Model 2. This might take a few minutes."
   ]
  },
  {
   "cell_type": "code",
   "execution_count": 22,
   "metadata": {
    "scrolled": false
   },
   "outputs": [
    {
     "name": "stdout",
     "output_type": "stream",
     "text": [
      "Epoch 1/100\n",
      "32/32 [==============================] - 2s 41ms/step - loss: 0.4884 - accuracy: 0.7759 - val_loss: 0.3836 - val_accuracy: 0.8311\n",
      "Epoch 2/100\n",
      "32/32 [==============================] - 1s 28ms/step - loss: 0.3490 - accuracy: 0.8483 - val_loss: 0.3252 - val_accuracy: 0.8356\n",
      "Epoch 3/100\n",
      "32/32 [==============================] - 1s 26ms/step - loss: 0.3226 - accuracy: 0.8699 - val_loss: 0.4038 - val_accuracy: 0.8584\n",
      "Epoch 4/100\n",
      "32/32 [==============================] - 1s 22ms/step - loss: 0.2930 - accuracy: 0.8757 - val_loss: 0.2865 - val_accuracy: 0.8721\n",
      "Epoch 5/100\n",
      "32/32 [==============================] - 1s 21ms/step - loss: 0.2654 - accuracy: 0.9051 - val_loss: 0.2585 - val_accuracy: 0.8813\n",
      "Epoch 6/100\n",
      "32/32 [==============================] - 1s 22ms/step - loss: 0.2813 - accuracy: 0.8836 - val_loss: 0.2772 - val_accuracy: 0.8813\n",
      "Epoch 7/100\n",
      "32/32 [==============================] - 1s 23ms/step - loss: 0.2550 - accuracy: 0.8963 - val_loss: 0.2695 - val_accuracy: 0.8813\n",
      "Epoch 8/100\n",
      "32/32 [==============================] - 1s 26ms/step - loss: 0.2533 - accuracy: 0.9041 - val_loss: 0.2607 - val_accuracy: 0.8858\n",
      "Epoch 9/100\n",
      "32/32 [==============================] - 1s 21ms/step - loss: 0.2559 - accuracy: 0.9031 - val_loss: 0.2597 - val_accuracy: 0.8858\n",
      "Epoch 10/100\n",
      "32/32 [==============================] - 1s 22ms/step - loss: 0.2445 - accuracy: 0.9022 - val_loss: 0.2869 - val_accuracy: 0.8858\n",
      "Epoch 11/100\n",
      "32/32 [==============================] - 1s 25ms/step - loss: 0.2449 - accuracy: 0.9012 - val_loss: 0.2464 - val_accuracy: 0.8904\n",
      "Epoch 12/100\n",
      "32/32 [==============================] - 1s 28ms/step - loss: 0.2353 - accuracy: 0.9051 - val_loss: 0.2562 - val_accuracy: 0.8950\n",
      "Epoch 13/100\n",
      "32/32 [==============================] - 1s 24ms/step - loss: 0.2210 - accuracy: 0.9100 - val_loss: 0.2646 - val_accuracy: 0.8904\n",
      "Epoch 14/100\n",
      "32/32 [==============================] - 1s 23ms/step - loss: 0.2329 - accuracy: 0.8943 - val_loss: 0.2531 - val_accuracy: 0.8950\n",
      "Epoch 15/100\n",
      "32/32 [==============================] - 1s 24ms/step - loss: 0.2345 - accuracy: 0.9110 - val_loss: 0.3846 - val_accuracy: 0.8721\n",
      "Epoch 16/100\n",
      "32/32 [==============================] - 1s 23ms/step - loss: 0.2674 - accuracy: 0.8943 - val_loss: 0.3575 - val_accuracy: 0.8539\n",
      "Epoch 17/100\n",
      "32/32 [==============================] - 1s 24ms/step - loss: 0.2395 - accuracy: 0.9119 - val_loss: 0.2375 - val_accuracy: 0.8950\n",
      "Epoch 18/100\n",
      "32/32 [==============================] - 1s 26ms/step - loss: 0.2127 - accuracy: 0.9051 - val_loss: 0.2479 - val_accuracy: 0.8813\n",
      "Epoch 19/100\n",
      "32/32 [==============================] - 1s 28ms/step - loss: 0.2136 - accuracy: 0.9159 - val_loss: 0.2842 - val_accuracy: 0.8630\n",
      "Epoch 20/100\n",
      "32/32 [==============================] - 1s 28ms/step - loss: 0.2218 - accuracy: 0.8982 - val_loss: 0.2297 - val_accuracy: 0.8721\n",
      "Epoch 21/100\n",
      "32/32 [==============================] - 1s 33ms/step - loss: 0.2137 - accuracy: 0.9168 - val_loss: 0.2722 - val_accuracy: 0.8813\n",
      "Epoch 22/100\n",
      "32/32 [==============================] - 1s 27ms/step - loss: 0.1967 - accuracy: 0.9178 - val_loss: 0.2394 - val_accuracy: 0.8858\n",
      "Epoch 23/100\n",
      "32/32 [==============================] - 1s 26ms/step - loss: 0.1930 - accuracy: 0.9168 - val_loss: 0.2405 - val_accuracy: 0.8858\n",
      "Epoch 24/100\n",
      "32/32 [==============================] - 1s 32ms/step - loss: 0.2008 - accuracy: 0.9129 - val_loss: 0.2988 - val_accuracy: 0.8904\n",
      "Epoch 25/100\n",
      "32/32 [==============================] - 1s 28ms/step - loss: 0.1844 - accuracy: 0.9178 - val_loss: 0.2527 - val_accuracy: 0.8721\n",
      "Epoch 26/100\n",
      "32/32 [==============================] - 1s 26ms/step - loss: 0.2135 - accuracy: 0.9139 - val_loss: 0.2850 - val_accuracy: 0.8767\n",
      "Epoch 27/100\n",
      "32/32 [==============================] - 1s 26ms/step - loss: 0.2014 - accuracy: 0.9188 - val_loss: 0.2667 - val_accuracy: 0.8676\n",
      "Epoch 28/100\n",
      "32/32 [==============================] - 1s 32ms/step - loss: 0.1822 - accuracy: 0.9315 - val_loss: 0.3127 - val_accuracy: 0.8402\n",
      "Epoch 29/100\n",
      "32/32 [==============================] - 1s 30ms/step - loss: 0.1893 - accuracy: 0.9178 - val_loss: 0.2605 - val_accuracy: 0.8721\n",
      "Epoch 30/100\n",
      "32/32 [==============================] - 1s 24ms/step - loss: 0.1808 - accuracy: 0.9266 - val_loss: 0.3667 - val_accuracy: 0.8676\n",
      "Epoch 31/100\n",
      "32/32 [==============================] - 1s 25ms/step - loss: 0.1875 - accuracy: 0.9188 - val_loss: 0.2885 - val_accuracy: 0.8904\n",
      "Epoch 32/100\n",
      "32/32 [==============================] - 1s 27ms/step - loss: 0.1869 - accuracy: 0.9178 - val_loss: 0.3128 - val_accuracy: 0.8858\n",
      "Epoch 33/100\n",
      "32/32 [==============================] - 1s 30ms/step - loss: 0.1911 - accuracy: 0.9178 - val_loss: 0.2809 - val_accuracy: 0.8676\n",
      "Epoch 34/100\n",
      "32/32 [==============================] - 1s 32ms/step - loss: 0.1798 - accuracy: 0.9198 - val_loss: 0.2740 - val_accuracy: 0.8539\n",
      "Epoch 35/100\n",
      "32/32 [==============================] - 1s 26ms/step - loss: 0.1848 - accuracy: 0.9237 - val_loss: 0.2861 - val_accuracy: 0.8539\n",
      "Epoch 36/100\n",
      "32/32 [==============================] - 1s 26ms/step - loss: 0.1683 - accuracy: 0.9256 - val_loss: 0.2995 - val_accuracy: 0.8813\n",
      "Epoch 37/100\n",
      "32/32 [==============================] - 1s 26ms/step - loss: 0.1615 - accuracy: 0.9256 - val_loss: 0.3387 - val_accuracy: 0.8767\n",
      "Epoch 38/100\n",
      "32/32 [==============================] - 1s 25ms/step - loss: 0.1781 - accuracy: 0.9256 - val_loss: 0.2571 - val_accuracy: 0.8767\n",
      "Epoch 39/100\n",
      "32/32 [==============================] - 1s 24ms/step - loss: 0.1626 - accuracy: 0.9344 - val_loss: 0.4115 - val_accuracy: 0.8493\n",
      "Epoch 40/100\n",
      "32/32 [==============================] - 1s 25ms/step - loss: 0.1912 - accuracy: 0.9276 - val_loss: 0.2665 - val_accuracy: 0.8676\n",
      "Epoch 41/100\n",
      "32/32 [==============================] - 1s 28ms/step - loss: 0.1608 - accuracy: 0.9295 - val_loss: 0.3331 - val_accuracy: 0.8813\n",
      "Epoch 42/100\n",
      "32/32 [==============================] - 1s 26ms/step - loss: 0.1622 - accuracy: 0.9256 - val_loss: 0.4573 - val_accuracy: 0.8767\n",
      "Epoch 43/100\n",
      "32/32 [==============================] - 1s 23ms/step - loss: 0.1654 - accuracy: 0.9354 - val_loss: 0.3294 - val_accuracy: 0.8676\n",
      "Epoch 44/100\n",
      "32/32 [==============================] - 1s 25ms/step - loss: 0.1631 - accuracy: 0.9295 - val_loss: 0.4020 - val_accuracy: 0.8676\n",
      "Epoch 45/100\n",
      "32/32 [==============================] - 1s 24ms/step - loss: 0.2058 - accuracy: 0.9266 - val_loss: 0.2966 - val_accuracy: 0.8858\n",
      "Epoch 46/100\n",
      "32/32 [==============================] - 1s 25ms/step - loss: 0.1548 - accuracy: 0.9335 - val_loss: 0.3198 - val_accuracy: 0.8858\n",
      "Epoch 47/100\n",
      "32/32 [==============================] - 1s 25ms/step - loss: 0.1577 - accuracy: 0.9315 - val_loss: 0.3789 - val_accuracy: 0.8813\n",
      "Epoch 48/100\n",
      "32/32 [==============================] - 1s 24ms/step - loss: 0.1440 - accuracy: 0.9344 - val_loss: 0.3459 - val_accuracy: 0.8767\n",
      "Epoch 49/100\n",
      "32/32 [==============================] - 1s 23ms/step - loss: 0.1662 - accuracy: 0.9256 - val_loss: 0.3942 - val_accuracy: 0.8539\n",
      "Epoch 50/100\n",
      "32/32 [==============================] - 1s 22ms/step - loss: 0.1959 - accuracy: 0.9217 - val_loss: 0.3169 - val_accuracy: 0.8995\n",
      "Epoch 51/100\n",
      "32/32 [==============================] - 1s 22ms/step - loss: 0.1850 - accuracy: 0.9139 - val_loss: 0.3346 - val_accuracy: 0.8630\n",
      "Epoch 52/100\n",
      "32/32 [==============================] - 1s 22ms/step - loss: 0.1794 - accuracy: 0.9247 - val_loss: 0.3289 - val_accuracy: 0.8539\n",
      "Epoch 53/100\n",
      "32/32 [==============================] - 1s 22ms/step - loss: 0.1557 - accuracy: 0.9354 - val_loss: 0.3658 - val_accuracy: 0.8721\n",
      "Epoch 54/100\n",
      "32/32 [==============================] - 1s 24ms/step - loss: 0.1541 - accuracy: 0.9286 - val_loss: 0.3270 - val_accuracy: 0.8767\n",
      "Epoch 55/100\n",
      "32/32 [==============================] - 1s 22ms/step - loss: 0.1487 - accuracy: 0.9305 - val_loss: 0.3488 - val_accuracy: 0.8904\n",
      "Epoch 56/100\n",
      "32/32 [==============================] - 1s 23ms/step - loss: 0.1505 - accuracy: 0.9276 - val_loss: 0.3302 - val_accuracy: 0.8402\n",
      "Epoch 57/100\n",
      "32/32 [==============================] - 1s 23ms/step - loss: 0.2010 - accuracy: 0.9051 - val_loss: 0.2712 - val_accuracy: 0.8539\n",
      "Epoch 58/100\n",
      "32/32 [==============================] - 1s 24ms/step - loss: 0.1744 - accuracy: 0.9276 - val_loss: 0.2830 - val_accuracy: 0.8904\n",
      "Epoch 59/100\n",
      "32/32 [==============================] - 1s 24ms/step - loss: 0.1762 - accuracy: 0.9237 - val_loss: 0.3757 - val_accuracy: 0.8813\n",
      "Epoch 60/100\n",
      "32/32 [==============================] - 1s 24ms/step - loss: 0.1532 - accuracy: 0.9335 - val_loss: 0.3696 - val_accuracy: 0.8721\n",
      "Epoch 61/100\n",
      "32/32 [==============================] - 1s 22ms/step - loss: 0.1385 - accuracy: 0.9423 - val_loss: 0.3719 - val_accuracy: 0.8813\n",
      "Epoch 62/100\n",
      "32/32 [==============================] - 1s 22ms/step - loss: 0.1630 - accuracy: 0.9266 - val_loss: 0.2970 - val_accuracy: 0.8584\n",
      "Epoch 63/100\n",
      "32/32 [==============================] - 1s 21ms/step - loss: 0.1672 - accuracy: 0.9335 - val_loss: 0.3043 - val_accuracy: 0.8813\n",
      "Epoch 64/100\n",
      "32/32 [==============================] - 1s 21ms/step - loss: 0.1344 - accuracy: 0.9374 - val_loss: 0.3979 - val_accuracy: 0.8721\n",
      "Epoch 65/100\n",
      "32/32 [==============================] - 1s 21ms/step - loss: 0.1427 - accuracy: 0.9403 - val_loss: 0.3136 - val_accuracy: 0.8813\n",
      "Epoch 66/100\n",
      "32/32 [==============================] - 1s 21ms/step - loss: 0.1447 - accuracy: 0.9374 - val_loss: 0.3953 - val_accuracy: 0.8813\n",
      "Epoch 67/100\n",
      "32/32 [==============================] - 1s 23ms/step - loss: 0.1462 - accuracy: 0.9286 - val_loss: 0.3559 - val_accuracy: 0.8813\n",
      "Epoch 68/100\n",
      "32/32 [==============================] - 1s 22ms/step - loss: 0.1246 - accuracy: 0.9521 - val_loss: 0.3439 - val_accuracy: 0.8813\n",
      "Epoch 69/100\n",
      "32/32 [==============================] - 1s 23ms/step - loss: 0.1269 - accuracy: 0.9413 - val_loss: 0.3965 - val_accuracy: 0.8858\n",
      "Epoch 70/100\n",
      "32/32 [==============================] - 1s 22ms/step - loss: 0.1283 - accuracy: 0.9491 - val_loss: 0.4004 - val_accuracy: 0.8493\n",
      "Epoch 71/100\n",
      "32/32 [==============================] - 1s 23ms/step - loss: 0.1294 - accuracy: 0.9481 - val_loss: 0.4324 - val_accuracy: 0.8584\n",
      "Epoch 72/100\n",
      "32/32 [==============================] - 1s 23ms/step - loss: 0.1339 - accuracy: 0.9462 - val_loss: 0.4070 - val_accuracy: 0.8676\n",
      "Epoch 73/100\n",
      "32/32 [==============================] - 1s 24ms/step - loss: 0.1463 - accuracy: 0.9315 - val_loss: 0.4294 - val_accuracy: 0.8493\n",
      "Epoch 74/100\n",
      "32/32 [==============================] - 1s 23ms/step - loss: 0.1446 - accuracy: 0.9384 - val_loss: 0.4754 - val_accuracy: 0.8721\n",
      "Epoch 75/100\n",
      "32/32 [==============================] - 1s 25ms/step - loss: 0.1376 - accuracy: 0.9442 - val_loss: 0.4759 - val_accuracy: 0.8676\n",
      "Epoch 76/100\n",
      "32/32 [==============================] - 1s 23ms/step - loss: 0.1388 - accuracy: 0.9344 - val_loss: 0.3536 - val_accuracy: 0.8813\n",
      "Epoch 77/100\n",
      "32/32 [==============================] - 1s 23ms/step - loss: 0.1264 - accuracy: 0.9403 - val_loss: 0.4101 - val_accuracy: 0.8858\n",
      "Epoch 78/100\n",
      "32/32 [==============================] - 1s 23ms/step - loss: 0.1110 - accuracy: 0.9501 - val_loss: 0.4400 - val_accuracy: 0.8858\n",
      "Epoch 79/100\n",
      "32/32 [==============================] - 1s 26ms/step - loss: 0.1032 - accuracy: 0.9550 - val_loss: 0.4100 - val_accuracy: 0.8813\n",
      "Epoch 80/100\n",
      "32/32 [==============================] - 1s 27ms/step - loss: 0.1111 - accuracy: 0.9521 - val_loss: 0.4219 - val_accuracy: 0.8721\n",
      "Epoch 81/100\n",
      "32/32 [==============================] - 1s 27ms/step - loss: 0.1393 - accuracy: 0.9452 - val_loss: 0.3537 - val_accuracy: 0.9041\n",
      "Epoch 82/100\n",
      "32/32 [==============================] - 1s 27ms/step - loss: 0.1337 - accuracy: 0.9472 - val_loss: 0.4156 - val_accuracy: 0.8630\n",
      "Epoch 83/100\n",
      "32/32 [==============================] - 1s 27ms/step - loss: 0.1342 - accuracy: 0.9393 - val_loss: 0.4087 - val_accuracy: 0.8584\n",
      "Epoch 84/100\n",
      "32/32 [==============================] - 1s 27ms/step - loss: 0.1238 - accuracy: 0.9432 - val_loss: 0.4285 - val_accuracy: 0.8676\n",
      "Epoch 85/100\n",
      "32/32 [==============================] - 1s 31ms/step - loss: 0.1073 - accuracy: 0.9540 - val_loss: 0.4457 - val_accuracy: 0.8904\n",
      "Epoch 86/100\n",
      "32/32 [==============================] - 1s 30ms/step - loss: 0.1189 - accuracy: 0.9530 - val_loss: 0.4001 - val_accuracy: 0.8676\n",
      "Epoch 87/100\n",
      "32/32 [==============================] - 1s 32ms/step - loss: 0.1199 - accuracy: 0.9481 - val_loss: 0.5049 - val_accuracy: 0.8950\n",
      "Epoch 88/100\n",
      "32/32 [==============================] - 1s 26ms/step - loss: 0.0996 - accuracy: 0.9569 - val_loss: 0.5034 - val_accuracy: 0.8584\n",
      "Epoch 89/100\n",
      "32/32 [==============================] - 1s 27ms/step - loss: 0.1697 - accuracy: 0.9384 - val_loss: 0.4652 - val_accuracy: 0.8721\n",
      "Epoch 90/100\n",
      "32/32 [==============================] - 1s 28ms/step - loss: 0.1127 - accuracy: 0.9599 - val_loss: 0.5109 - val_accuracy: 0.8904\n",
      "Epoch 91/100\n",
      "32/32 [==============================] - 1s 26ms/step - loss: 0.1183 - accuracy: 0.9462 - val_loss: 0.4397 - val_accuracy: 0.8858\n",
      "Epoch 92/100\n",
      "32/32 [==============================] - 1s 27ms/step - loss: 0.1144 - accuracy: 0.9511 - val_loss: 0.4963 - val_accuracy: 0.8630\n",
      "Epoch 93/100\n",
      "32/32 [==============================] - 1s 32ms/step - loss: 0.1067 - accuracy: 0.9579 - val_loss: 0.5552 - val_accuracy: 0.8630\n",
      "Epoch 94/100\n",
      "32/32 [==============================] - 1s 29ms/step - loss: 0.0973 - accuracy: 0.9569 - val_loss: 0.6188 - val_accuracy: 0.8767\n",
      "Epoch 95/100\n",
      "32/32 [==============================] - 1s 27ms/step - loss: 0.1087 - accuracy: 0.9569 - val_loss: 0.5666 - val_accuracy: 0.8676\n",
      "Epoch 96/100\n",
      "32/32 [==============================] - 1s 29ms/step - loss: 0.1290 - accuracy: 0.9501 - val_loss: 0.3887 - val_accuracy: 0.8676\n",
      "Epoch 97/100\n",
      "32/32 [==============================] - 1s 29ms/step - loss: 0.1106 - accuracy: 0.9521 - val_loss: 0.4127 - val_accuracy: 0.8813\n",
      "Epoch 98/100\n",
      "32/32 [==============================] - 1s 29ms/step - loss: 0.0992 - accuracy: 0.9569 - val_loss: 0.4905 - val_accuracy: 0.8813\n",
      "Epoch 99/100\n",
      "32/32 [==============================] - 1s 27ms/step - loss: 0.0915 - accuracy: 0.9628 - val_loss: 0.4364 - val_accuracy: 0.8767\n",
      "Epoch 100/100\n",
      "32/32 [==============================] - 1s 27ms/step - loss: 0.1028 - accuracy: 0.9599 - val_loss: 0.4721 - val_accuracy: 0.8995\n"
     ]
    }
   ],
   "source": [
    "model_2 = Sequential([\n",
    "    Dense(1000, activation='relu', input_shape=(10,)),\n",
    "    Dense(1000, activation='relu'),\n",
    "    Dense(1000, activation='relu'),\n",
    "    Dense(1000, activation='relu'),\n",
    "    Dense(1, activation='sigmoid'),\n",
    "])\n",
    "model_2.compile(optimizer='adam',\n",
    "              loss='binary_crossentropy',\n",
    "              metrics=['accuracy'])\n",
    "hist_2 = model_2.fit(X_train, Y_train,\n",
    "          batch_size=32, epochs=100,\n",
    "          validation_data=(X_val, Y_val))"
   ]
  },
  {
   "cell_type": "markdown",
   "metadata": {},
   "source": [
    "Let's do the same visualization to see what overfitting looks like in terms of the loss and accuracy."
   ]
  },
  {
   "cell_type": "code",
   "execution_count": 23,
   "metadata": {},
   "outputs": [
    {
     "data": {
      "image/png": "[encoded data removed]",
      "text/plain": [
       "<Figure size 432x288 with 1 Axes>"
      ]
     },
     "metadata": {
      "needs_background": "light"
     },
     "output_type": "display_data"
    }
   ],
   "source": [
    "plt.plot(hist_2.history['loss'])\n",
    "plt.plot(hist_2.history['val_loss'])\n",
    "plt.title('Model loss')\n",
    "plt.ylabel('Loss')\n",
    "plt.xlabel('Epoch')\n",
    "plt.legend(['Train', 'Val'], loc='upper right')\n",
    "plt.show()"
   ]
  },
  {
   "cell_type": "code",
   "execution_count": 24,
   "metadata": {},
   "outputs": [
    {
     "data": {
      "image/png": "[encoded data removed]",
      "text/plain": [
       "<Figure size 432x288 with 1 Axes>"
      ]
     },
     "metadata": {
      "needs_background": "light"
     },
     "output_type": "display_data"
    }
   ],
   "source": [
    "plt.plot(hist_2.history['accuracy'])\n",
    "plt.plot(hist_2.history['val_accuracy'])\n",
    "plt.title('Model accuracy')\n",
    "plt.ylabel('Accuracy')\n",
    "plt.xlabel('Epoch')\n",
    "plt.legend(['Train', 'Val'], loc='lower right')\n",
    "plt.show()"
   ]
  },
  {
   "cell_type": "markdown",
   "metadata": {},
   "source": [
    "To address the overfitting we see in Model 2, we'll incorporate L2 regularization and dropout in our third model here (Model 3)."
   ]
  },
  {
   "cell_type": "code",
   "execution_count": 25,
   "metadata": {},
   "outputs": [],
   "source": [
    "from keras.layers import Dropout\n",
    "from keras import regularizers"
   ]
  },
  {
   "cell_type": "code",
   "execution_count": 26,
   "metadata": {},
   "outputs": [],
   "source": [
    "model_3 = Sequential([\n",
    "    Dense(1000, activation='relu', kernel_regularizer=regularizers.l2(0.01), input_shape=(10,)),\n",
    "    Dropout(0.3),\n",
    "    Dense(1000, activation='relu', kernel_regularizer=regularizers.l2(0.01)),\n",
    "    Dropout(0.3),\n",
    "    Dense(1000, activation='relu', kernel_regularizer=regularizers.l2(0.01)),\n",
    "    Dropout(0.3),\n",
    "    Dense(1000, activation='relu', kernel_regularizer=regularizers.l2(0.01)),\n",
    "    Dropout(0.3),\n",
    "    Dense(1, activation='sigmoid', kernel_regularizer=regularizers.l2(0.01)),\n",
    "])"
   ]
  },
  {
   "cell_type": "code",
   "execution_count": 27,
   "metadata": {},
   "outputs": [
    {
     "name": "stdout",
     "output_type": "stream",
     "text": [
      "Epoch 1/100\n",
      "32/32 [==============================] - 2s 46ms/step - loss: 14.2458 - accuracy: 0.6272 - val_loss: 3.9193 - val_accuracy: 0.6393\n",
      "Epoch 2/100\n",
      "32/32 [==============================] - 1s 42ms/step - loss: 1.6599 - accuracy: 0.8337 - val_loss: 0.6551 - val_accuracy: 0.8630\n",
      "Epoch 3/100\n",
      "32/32 [==============================] - 1s 43ms/step - loss: 0.5710 - accuracy: 0.8581 - val_loss: 0.5142 - val_accuracy: 0.8721\n",
      "Epoch 4/100\n",
      "32/32 [==============================] - 1s 37ms/step - loss: 0.5420 - accuracy: 0.8503 - val_loss: 0.5027 - val_accuracy: 0.8813\n",
      "Epoch 5/100\n",
      "32/32 [==============================] - 1s 38ms/step - loss: 0.4937 - accuracy: 0.8796 - val_loss: 0.4727 - val_accuracy: 0.8813\n",
      "Epoch 6/100\n",
      "32/32 [==============================] - 1s 40ms/step - loss: 0.4952 - accuracy: 0.8640 - val_loss: 0.5235 - val_accuracy: 0.8584\n",
      "Epoch 7/100\n",
      "32/32 [==============================] - 1s 38ms/step - loss: 0.4920 - accuracy: 0.8699 - val_loss: 0.4562 - val_accuracy: 0.8813\n",
      "Epoch 8/100\n",
      "32/32 [==============================] - 1s 41ms/step - loss: 0.4650 - accuracy: 0.8787 - val_loss: 0.4481 - val_accuracy: 0.8813\n",
      "Epoch 9/100\n",
      "32/32 [==============================] - 1s 41ms/step - loss: 0.4956 - accuracy: 0.8708 - val_loss: 0.4865 - val_accuracy: 0.8813\n",
      "Epoch 10/100\n",
      "32/32 [==============================] - 1s 37ms/step - loss: 0.4825 - accuracy: 0.8640 - val_loss: 0.4472 - val_accuracy: 0.8858\n",
      "Epoch 11/100\n",
      "32/32 [==============================] - 1s 37ms/step - loss: 0.4742 - accuracy: 0.8777 - val_loss: 0.4465 - val_accuracy: 0.8858\n",
      "Epoch 12/100\n",
      "32/32 [==============================] - 1s 41ms/step - loss: 0.4857 - accuracy: 0.8806 - val_loss: 0.4474 - val_accuracy: 0.8858\n",
      "Epoch 13/100\n",
      "32/32 [==============================] - 1s 39ms/step - loss: 0.4489 - accuracy: 0.8894 - val_loss: 0.4367 - val_accuracy: 0.8858\n",
      "Epoch 14/100\n",
      "32/32 [==============================] - 1s 40ms/step - loss: 0.4548 - accuracy: 0.8855 - val_loss: 0.4465 - val_accuracy: 0.8813\n",
      "Epoch 15/100\n",
      "32/32 [==============================] - 1s 41ms/step - loss: 0.4702 - accuracy: 0.8659 - val_loss: 0.4385 - val_accuracy: 0.8858\n",
      "Epoch 16/100\n",
      "32/32 [==============================] - 1s 39ms/step - loss: 0.4439 - accuracy: 0.8787 - val_loss: 0.4315 - val_accuracy: 0.8813\n",
      "Epoch 17/100\n",
      "32/32 [==============================] - 1s 45ms/step - loss: 0.4487 - accuracy: 0.8796 - val_loss: 0.4383 - val_accuracy: 0.8858\n",
      "Epoch 18/100\n",
      "32/32 [==============================] - 1s 38ms/step - loss: 0.4778 - accuracy: 0.8796 - val_loss: 0.4723 - val_accuracy: 0.8402\n",
      "Epoch 19/100\n",
      "32/32 [==============================] - 1s 41ms/step - loss: 0.4447 - accuracy: 0.8865 - val_loss: 0.4255 - val_accuracy: 0.8950\n",
      "Epoch 20/100\n",
      "32/32 [==============================] - 1s 41ms/step - loss: 0.4741 - accuracy: 0.8718 - val_loss: 0.4595 - val_accuracy: 0.8858\n",
      "Epoch 21/100\n",
      "32/32 [==============================] - 1s 37ms/step - loss: 0.4619 - accuracy: 0.8767 - val_loss: 0.4911 - val_accuracy: 0.8584\n",
      "Epoch 22/100\n",
      "32/32 [==============================] - 1s 42ms/step - loss: 0.4436 - accuracy: 0.8816 - val_loss: 0.4230 - val_accuracy: 0.8767\n",
      "Epoch 23/100\n",
      "32/32 [==============================] - 1s 40ms/step - loss: 0.4358 - accuracy: 0.8894 - val_loss: 0.4871 - val_accuracy: 0.8584\n",
      "Epoch 24/100\n",
      "32/32 [==============================] - 1s 40ms/step - loss: 0.4449 - accuracy: 0.8787 - val_loss: 0.4482 - val_accuracy: 0.8904\n",
      "Epoch 25/100\n",
      "32/32 [==============================] - 1s 39ms/step - loss: 0.4295 - accuracy: 0.8885 - val_loss: 0.4388 - val_accuracy: 0.8813\n",
      "Epoch 26/100\n",
      "32/32 [==============================] - 1s 37ms/step - loss: 0.4620 - accuracy: 0.8679 - val_loss: 0.4352 - val_accuracy: 0.8950\n",
      "Epoch 27/100\n",
      "32/32 [==============================] - 1s 38ms/step - loss: 0.4601 - accuracy: 0.8767 - val_loss: 0.4516 - val_accuracy: 0.8584\n",
      "Epoch 28/100\n",
      "32/32 [==============================] - 1s 37ms/step - loss: 0.4521 - accuracy: 0.8845 - val_loss: 0.4501 - val_accuracy: 0.8950\n",
      "Epoch 29/100\n",
      "32/32 [==============================] - 1s 37ms/step - loss: 0.4415 - accuracy: 0.8767 - val_loss: 0.4580 - val_accuracy: 0.8493\n",
      "Epoch 30/100\n",
      "32/32 [==============================] - 1s 38ms/step - loss: 0.4558 - accuracy: 0.8865 - val_loss: 0.4250 - val_accuracy: 0.8904\n",
      "Epoch 31/100\n",
      "32/32 [==============================] - 1s 37ms/step - loss: 0.4419 - accuracy: 0.8796 - val_loss: 0.4479 - val_accuracy: 0.8539\n",
      "Epoch 32/100\n",
      "32/32 [==============================] - 1s 37ms/step - loss: 0.4340 - accuracy: 0.8865 - val_loss: 0.4244 - val_accuracy: 0.8950\n",
      "Epoch 33/100\n",
      "32/32 [==============================] - 1s 39ms/step - loss: 0.4423 - accuracy: 0.8865 - val_loss: 0.4875 - val_accuracy: 0.8721\n",
      "Epoch 34/100\n",
      "32/32 [==============================] - 1s 38ms/step - loss: 0.4568 - accuracy: 0.8718 - val_loss: 0.4219 - val_accuracy: 0.8767\n",
      "Epoch 35/100\n",
      "32/32 [==============================] - 1s 38ms/step - loss: 0.4373 - accuracy: 0.8865 - val_loss: 0.4408 - val_accuracy: 0.8950\n",
      "Epoch 36/100\n",
      "32/32 [==============================] - 1s 38ms/step - loss: 0.4381 - accuracy: 0.8816 - val_loss: 0.4315 - val_accuracy: 0.8995\n",
      "Epoch 37/100\n",
      "32/32 [==============================] - 1s 40ms/step - loss: 0.4608 - accuracy: 0.8806 - val_loss: 0.4451 - val_accuracy: 0.8676\n",
      "Epoch 38/100\n",
      "32/32 [==============================] - 1s 39ms/step - loss: 0.4421 - accuracy: 0.8855 - val_loss: 0.4409 - val_accuracy: 0.8950\n",
      "Epoch 39/100\n",
      "32/32 [==============================] - 1s 39ms/step - loss: 0.4467 - accuracy: 0.8826 - val_loss: 0.4316 - val_accuracy: 0.8813\n",
      "Epoch 40/100\n",
      "32/32 [==============================] - 1s 39ms/step - loss: 0.4417 - accuracy: 0.8787 - val_loss: 0.4294 - val_accuracy: 0.8813\n",
      "Epoch 41/100\n",
      "32/32 [==============================] - 1s 38ms/step - loss: 0.4367 - accuracy: 0.8796 - val_loss: 0.4818 - val_accuracy: 0.8630\n",
      "Epoch 42/100\n",
      "32/32 [==============================] - 1s 39ms/step - loss: 0.4526 - accuracy: 0.8826 - val_loss: 0.4276 - val_accuracy: 0.8904\n",
      "Epoch 43/100\n",
      "32/32 [==============================] - 1s 38ms/step - loss: 0.4248 - accuracy: 0.8875 - val_loss: 0.4173 - val_accuracy: 0.8904\n",
      "Epoch 44/100\n",
      "32/32 [==============================] - 1s 40ms/step - loss: 0.4394 - accuracy: 0.8787 - val_loss: 0.4346 - val_accuracy: 0.8950\n",
      "Epoch 45/100\n",
      "32/32 [==============================] - 1s 40ms/step - loss: 0.4446 - accuracy: 0.8777 - val_loss: 0.4203 - val_accuracy: 0.8813\n",
      "Epoch 46/100\n",
      "32/32 [==============================] - 1s 40ms/step - loss: 0.4395 - accuracy: 0.8787 - val_loss: 0.4238 - val_accuracy: 0.8904\n",
      "Epoch 47/100\n",
      "32/32 [==============================] - 1s 39ms/step - loss: 0.4350 - accuracy: 0.8826 - val_loss: 0.4383 - val_accuracy: 0.8676\n",
      "Epoch 48/100\n",
      "32/32 [==============================] - 1s 39ms/step - loss: 0.4277 - accuracy: 0.8845 - val_loss: 0.4159 - val_accuracy: 0.8813\n",
      "Epoch 49/100\n",
      "32/32 [==============================] - 1s 39ms/step - loss: 0.4275 - accuracy: 0.8885 - val_loss: 0.4879 - val_accuracy: 0.8447\n",
      "Epoch 50/100\n",
      "32/32 [==============================] - 1s 39ms/step - loss: 0.4743 - accuracy: 0.8738 - val_loss: 0.4263 - val_accuracy: 0.8950\n",
      "Epoch 51/100\n",
      "32/32 [==============================] - 1s 39ms/step - loss: 0.4474 - accuracy: 0.8826 - val_loss: 0.4832 - val_accuracy: 0.8447\n",
      "Epoch 52/100\n",
      "32/32 [==============================] - 1s 39ms/step - loss: 0.4491 - accuracy: 0.8689 - val_loss: 0.4160 - val_accuracy: 0.8813\n",
      "Epoch 53/100\n",
      "32/32 [==============================] - 1s 39ms/step - loss: 0.4536 - accuracy: 0.8787 - val_loss: 0.4377 - val_accuracy: 0.8904\n",
      "Epoch 54/100\n",
      "32/32 [==============================] - 1s 40ms/step - loss: 0.4430 - accuracy: 0.8757 - val_loss: 0.4230 - val_accuracy: 0.8858\n",
      "Epoch 55/100\n",
      "32/32 [==============================] - 1s 40ms/step - loss: 0.4311 - accuracy: 0.8885 - val_loss: 0.4448 - val_accuracy: 0.8493\n",
      "Epoch 56/100\n",
      "32/32 [==============================] - 1s 40ms/step - loss: 0.4450 - accuracy: 0.8777 - val_loss: 0.4333 - val_accuracy: 0.8950\n",
      "Epoch 57/100\n",
      "32/32 [==============================] - 1s 44ms/step - loss: 0.4357 - accuracy: 0.8924 - val_loss: 0.4262 - val_accuracy: 0.8813\n",
      "Epoch 58/100\n",
      "32/32 [==============================] - 1s 40ms/step - loss: 0.4346 - accuracy: 0.8806 - val_loss: 0.4209 - val_accuracy: 0.8813\n",
      "Epoch 59/100\n",
      "32/32 [==============================] - 1s 38ms/step - loss: 0.4524 - accuracy: 0.8787 - val_loss: 0.4268 - val_accuracy: 0.8767\n",
      "Epoch 60/100\n",
      "32/32 [==============================] - 1s 39ms/step - loss: 0.4437 - accuracy: 0.8855 - val_loss: 0.4352 - val_accuracy: 0.8950\n",
      "Epoch 61/100\n",
      "32/32 [==============================] - 1s 38ms/step - loss: 0.4536 - accuracy: 0.8748 - val_loss: 0.4328 - val_accuracy: 0.8950\n",
      "Epoch 62/100\n",
      "32/32 [==============================] - 1s 38ms/step - loss: 0.4287 - accuracy: 0.8933 - val_loss: 0.4331 - val_accuracy: 0.8950\n",
      "Epoch 63/100\n",
      "32/32 [==============================] - 1s 37ms/step - loss: 0.4410 - accuracy: 0.8816 - val_loss: 0.4325 - val_accuracy: 0.8721\n",
      "Epoch 64/100\n",
      "32/32 [==============================] - 1s 37ms/step - loss: 0.4635 - accuracy: 0.8708 - val_loss: 0.4214 - val_accuracy: 0.8721\n",
      "Epoch 65/100\n",
      "32/32 [==============================] - 1s 40ms/step - loss: 0.4274 - accuracy: 0.8836 - val_loss: 0.4164 - val_accuracy: 0.8813\n",
      "Epoch 66/100\n",
      "32/32 [==============================] - 1s 39ms/step - loss: 0.4338 - accuracy: 0.8816 - val_loss: 0.4271 - val_accuracy: 0.8767\n",
      "Epoch 67/100\n",
      "32/32 [==============================] - 1s 39ms/step - loss: 0.4489 - accuracy: 0.8748 - val_loss: 0.5131 - val_accuracy: 0.8447\n",
      "Epoch 68/100\n",
      "32/32 [==============================] - 1s 38ms/step - loss: 0.4730 - accuracy: 0.8738 - val_loss: 0.4273 - val_accuracy: 0.8767\n",
      "Epoch 69/100\n",
      "32/32 [==============================] - 1s 39ms/step - loss: 0.4458 - accuracy: 0.8796 - val_loss: 0.4203 - val_accuracy: 0.8950\n",
      "Epoch 70/100\n",
      "32/32 [==============================] - 1s 38ms/step - loss: 0.4404 - accuracy: 0.8806 - val_loss: 0.4413 - val_accuracy: 0.8904\n",
      "Epoch 71/100\n",
      "32/32 [==============================] - 1s 38ms/step - loss: 0.4303 - accuracy: 0.8885 - val_loss: 0.4608 - val_accuracy: 0.8721\n",
      "Epoch 72/100\n",
      "32/32 [==============================] - 1s 39ms/step - loss: 0.4608 - accuracy: 0.8728 - val_loss: 0.4685 - val_accuracy: 0.8721\n",
      "Epoch 73/100\n",
      "32/32 [==============================] - 1s 40ms/step - loss: 0.4388 - accuracy: 0.8943 - val_loss: 0.4168 - val_accuracy: 0.8904\n",
      "Epoch 74/100\n",
      "32/32 [==============================] - 1s 37ms/step - loss: 0.4291 - accuracy: 0.8845 - val_loss: 0.4281 - val_accuracy: 0.8676\n",
      "Epoch 75/100\n",
      "32/32 [==============================] - 1s 38ms/step - loss: 0.4314 - accuracy: 0.8904 - val_loss: 0.4234 - val_accuracy: 0.8950\n",
      "Epoch 76/100\n",
      "32/32 [==============================] - 1s 38ms/step - loss: 0.4330 - accuracy: 0.8914 - val_loss: 0.4252 - val_accuracy: 0.8858\n",
      "Epoch 77/100\n",
      "32/32 [==============================] - 1s 39ms/step - loss: 0.4404 - accuracy: 0.8806 - val_loss: 0.4179 - val_accuracy: 0.8767\n",
      "Epoch 78/100\n",
      "32/32 [==============================] - 1s 39ms/step - loss: 0.4374 - accuracy: 0.8865 - val_loss: 0.4234 - val_accuracy: 0.8858\n",
      "Epoch 79/100\n",
      "32/32 [==============================] - 1s 39ms/step - loss: 0.4333 - accuracy: 0.8855 - val_loss: 0.4472 - val_accuracy: 0.8584\n",
      "Epoch 80/100\n",
      "32/32 [==============================] - 1s 35ms/step - loss: 0.4287 - accuracy: 0.8875 - val_loss: 0.4172 - val_accuracy: 0.8813\n",
      "Epoch 81/100\n",
      "32/32 [==============================] - 1s 37ms/step - loss: 0.4290 - accuracy: 0.8845 - val_loss: 0.4297 - val_accuracy: 0.8858\n",
      "Epoch 82/100\n",
      "32/32 [==============================] - 1s 39ms/step - loss: 0.4367 - accuracy: 0.8787 - val_loss: 0.5002 - val_accuracy: 0.8539\n",
      "Epoch 83/100\n",
      "32/32 [==============================] - 1s 39ms/step - loss: 0.4381 - accuracy: 0.8777 - val_loss: 0.4306 - val_accuracy: 0.8858\n",
      "Epoch 84/100\n",
      "32/32 [==============================] - 1s 37ms/step - loss: 0.4372 - accuracy: 0.8718 - val_loss: 0.4200 - val_accuracy: 0.8813\n",
      "Epoch 85/100\n",
      "32/32 [==============================] - 1s 34ms/step - loss: 0.4327 - accuracy: 0.8894 - val_loss: 0.4361 - val_accuracy: 0.8950\n",
      "Epoch 86/100\n",
      "32/32 [==============================] - 1s 35ms/step - loss: 0.4487 - accuracy: 0.8787 - val_loss: 0.4413 - val_accuracy: 0.8858\n",
      "Epoch 87/100\n",
      "32/32 [==============================] - 1s 37ms/step - loss: 0.4571 - accuracy: 0.8699 - val_loss: 0.4334 - val_accuracy: 0.8676\n",
      "Epoch 88/100\n",
      "32/32 [==============================] - 1s 43ms/step - loss: 0.4387 - accuracy: 0.8796 - val_loss: 0.4267 - val_accuracy: 0.8676\n",
      "Epoch 89/100\n",
      "32/32 [==============================] - 1s 40ms/step - loss: 0.4323 - accuracy: 0.8865 - val_loss: 0.4196 - val_accuracy: 0.8767\n",
      "Epoch 90/100\n",
      "32/32 [==============================] - 1s 38ms/step - loss: 0.4397 - accuracy: 0.8787 - val_loss: 0.4177 - val_accuracy: 0.8904\n",
      "Epoch 91/100\n",
      "32/32 [==============================] - 1s 37ms/step - loss: 0.4454 - accuracy: 0.8787 - val_loss: 0.4230 - val_accuracy: 0.8858\n",
      "Epoch 92/100\n",
      "32/32 [==============================] - 1s 37ms/step - loss: 0.4217 - accuracy: 0.8826 - val_loss: 0.4203 - val_accuracy: 0.8858\n",
      "Epoch 93/100\n",
      "32/32 [==============================] - 1s 39ms/step - loss: 0.4364 - accuracy: 0.8777 - val_loss: 0.4594 - val_accuracy: 0.8721\n",
      "Epoch 94/100\n",
      "32/32 [==============================] - 1s 36ms/step - loss: 0.4238 - accuracy: 0.8826 - val_loss: 0.4288 - val_accuracy: 0.8630\n",
      "Epoch 95/100\n",
      "32/32 [==============================] - 1s 37ms/step - loss: 0.4368 - accuracy: 0.8875 - val_loss: 0.4140 - val_accuracy: 0.8813\n",
      "Epoch 96/100\n",
      "32/32 [==============================] - 1s 37ms/step - loss: 0.4469 - accuracy: 0.8796 - val_loss: 0.4271 - val_accuracy: 0.8630\n",
      "Epoch 97/100\n",
      "32/32 [==============================] - 1s 36ms/step - loss: 0.4335 - accuracy: 0.8845 - val_loss: 0.4159 - val_accuracy: 0.8904\n",
      "Epoch 98/100\n",
      "32/32 [==============================] - 1s 37ms/step - loss: 0.4328 - accuracy: 0.8787 - val_loss: 0.4170 - val_accuracy: 0.8813\n",
      "Epoch 99/100\n",
      "32/32 [==============================] - 1s 36ms/step - loss: 0.4351 - accuracy: 0.8904 - val_loss: 0.4185 - val_accuracy: 0.8813\n",
      "Epoch 100/100\n",
      "32/32 [==============================] - 1s 36ms/step - loss: 0.4261 - accuracy: 0.8914 - val_loss: 0.4174 - val_accuracy: 0.8904\n"
     ]
    }
   ],
   "source": [
    "model_3.compile(optimizer='adam',\n",
    "              loss='binary_crossentropy',\n",
    "              metrics=['accuracy'])\n",
    "hist_3 = model_3.fit(X_train, Y_train,\n",
    "          batch_size=32, epochs=100,\n",
    "          validation_data=(X_val, Y_val))"
   ]
  },
  {
   "cell_type": "markdown",
   "metadata": {},
   "source": [
    "We'll now plot the loss and accuracy graphs for Model 3. You'll notice that the loss is a lot higher at the start, and that's because we've changed our loss function. To plot such that the window is zoomed in between 0 and 1.2 for the loss, we add an additional line of code (plt.ylim) when plotting"
   ]
  },
  {
   "cell_type": "code",
   "execution_count": 28,
   "metadata": {},
   "outputs": [
    {
     "data": {
      "image/png": "[encoded data removed]",
      "text/plain": [
       "<Figure size 432x288 with 1 Axes>"
      ]
     },
     "metadata": {
      "needs_background": "light"
     },
     "output_type": "display_data"
    }
   ],
   "source": [
    "plt.plot(hist_3.history['loss'])\n",
    "plt.plot(hist_3.history['val_loss'])\n",
    "plt.title('Model loss')\n",
    "plt.ylabel('Loss')\n",
    "plt.xlabel('Epoch')\n",
    "plt.legend(['Train', 'Val'], loc='upper right')\n",
    "plt.ylim(top=1.2, bottom=0)\n",
    "plt.show()"
   ]
  },
  {
   "cell_type": "code",
   "execution_count": 29,
   "metadata": {},
   "outputs": [
    {
     "data": {
      "image/png": "[encoded data removed]",
      "text/plain": [
       "<Figure size 432x288 with 1 Axes>"
      ]
     },
     "metadata": {
      "needs_background": "light"
     },
     "output_type": "display_data"
    }
   ],
   "source": [
    "plt.plot(hist_3.history['accuracy'])\n",
    "plt.plot(hist_3.history['val_accuracy'])\n",
    "plt.title('Model accuracy')\n",
    "plt.ylabel('Accuracy')\n",
    "plt.xlabel('Epoch')\n",
    "plt.legend(['Train', 'Val'], loc='lower right')\n",
    "plt.show()"
   ]
  },
  {
   "cell_type": "markdown",
   "metadata": {},
   "source": [
    "As compared to Model 2, you should see that there's less overfitting!"
   ]
  }
 ],
 "metadata": {
  "kernelspec": {
   "display_name": "Python 3 (ipykernel)",
   "language": "python",
   "name": "python3"
  },
  "language_info": {
   "codemirror_mode": {
    "name": "ipython",
    "version": 3
   },
   "file_extension": ".py",
   "mimetype": "text/x-python",
   "name": "python",
   "nbconvert_exporter": "python",
   "pygments_lexer": "ipython3",
   "version": "3.9.7"
  }
 },
 "nbformat": 4,
 "nbformat_minor": 2
}
